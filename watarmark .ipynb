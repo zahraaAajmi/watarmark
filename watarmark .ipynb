{
  "cells": [
    {
      "cell_type": "code",
      "execution_count": null,
      "metadata": {
        "colab": {
          "base_uri": "https://localhost:8080/"
        },
        "id": "XwS3JKt-U1CE",
        "outputId": "effa3d44-47e6-4623-c8fd-ad3f8e264cfa"
      },
      "outputs": [
        {
          "output_type": "stream",
          "name": "stdout",
          "text": [
            "Mounted at /content/drive\n"
          ]
        }
      ],
      "source": [
        "#My dataset is available in googledrive; so I am accessing my drive from colab\n",
        "from google.colab import drive\n",
        "drive.mount('/content/drive', force_remount=True)\n",
        "#Once this is executed, you will see your drive appearing on the left hand side"
      ]
    },
    {
      "cell_type": "code",
      "execution_count": null,
      "metadata": {
        "id": "SMPHESYVVnzp"
      },
      "outputs": [],
      "source": [
        "# Define paths to the dataset\n",
        "train_dir = '/content/drive/MyDrive/train'  # Update with your actual path\n",
        "test_dir = '/content/drive/MyDrive/test'    # Update with your actual path"
      ]
    },
    {
      "cell_type": "code",
      "execution_count": null,
      "metadata": {
        "colab": {
          "base_uri": "https://localhost:8080/"
        },
        "id": "wwfZiLtU6Ruq",
        "outputId": "38244465-a6d9-4d85-df97-8d13c09acc78"
      },
      "outputs": [
        {
          "output_type": "stream",
          "name": "stdout",
          "text": [
            "500\n",
            "491\n",
            "40\n",
            "40\n"
          ]
        }
      ],
      "source": [
        "import os\n",
        "print(len(os.listdir('/content/drive/MyDrive/train/dogs')))\n",
        "print(len(os.listdir('/content/drive/MyDrive/train/cats')))\n",
        "print(len(os.listdir('/content/drive/MyDrive/test/dogs')))\n",
        "print(len(os.listdir('/content/drive/MyDrive/test/cats')))"
      ]
    },
    {
      "cell_type": "code",
      "execution_count": null,
      "metadata": {
        "colab": {
          "base_uri": "https://localhost:8080/"
        },
        "id": "kf8li3JNUJR1",
        "outputId": "a7cc044e-bcfc-456a-d212-45bcda58cbcc"
      },
      "outputs": [
        {
          "output_type": "stream",
          "name": "stdout",
          "text": [
            "Found 793 images belonging to 2 classes.\n",
            "Found 198 images belonging to 2 classes.\n"
          ]
        }
      ],
      "source": [
        "import tensorflow as tf\n",
        "from tensorflow.keras.preprocessing.image import ImageDataGenerator\n",
        "\n",
        "# Create ImageDataGenerator for training set\n",
        "train_datagen = ImageDataGenerator(\n",
        "    rescale=1./255,\n",
        "    validation_split=0.2  # Split 20% of the images for validation\n",
        ")\n",
        "\n",
        "# Load and prepare training data\n",
        "train_data = train_datagen.flow_from_directory(\n",
        "    train_dir,\n",
        "    target_size=(256,256),\n",
        "    batch_size=32,\n",
        "    class_mode='binary',  # 'binary' for binary classification (cats vs. dogs)\n",
        "    subset='training'  # Specify 'training' for the training set\n",
        ")\n",
        "\n",
        "# Create ImageDataGenerator for validation set\n",
        "validation_datagen = ImageDataGenerator(\n",
        "    rescale=1./255,\n",
        "    validation_split=0.2  # Note: Using the same validation split as in the training set\n",
        ")\n",
        "\n",
        "# Load and prepare validation data\n",
        "validation_data = validation_datagen.flow_from_directory(\n",
        "    train_dir,\n",
        "    target_size=(256,256),\n",
        "    batch_size=32,\n",
        "    class_mode='binary',\n",
        "    subset='validation'  # Specify 'validation' for the validation set\n",
        ")"
      ]
    },
    {
      "cell_type": "code",
      "execution_count": null,
      "metadata": {
        "id": "wGp6oIfQWMFh"
      },
      "outputs": [],
      "source": [
        "from tensorflow import keras\n",
        "from keras import Sequential\n",
        "from keras.layers import Dense,Conv2D,MaxPooling2D,Flatten,BatchNormalization,UpSampling2D, Dropout"
      ]
    },
    {
      "cell_type": "code",
      "execution_count": null,
      "metadata": {
        "id": "6liLEEzLWNB5"
      },
      "outputs": [],
      "source": [
        "# create CNN model\n",
        "\n",
        "model = Sequential()\n",
        "\n",
        "model.add(Conv2D(32,kernel_size=(3,3),padding='valid',activation='relu',input_shape=(256,256,3)))  # 32 filters\n",
        "#model.add(BatchNormalization())  # added to reduce overfitting\n",
        "model.add(MaxPooling2D(pool_size=(2,2),strides=2,padding='valid'))\n",
        "\n",
        "model.add(Conv2D(64,kernel_size=(3,3),padding='valid',activation='relu'))\n",
        "#model.add(BatchNormalization())  # added to reduce overfitting\n",
        "model.add(MaxPooling2D(pool_size=(2,2),strides=2,padding='valid'))\n",
        "\n",
        "model.add(Conv2D(128,kernel_size=(3,3),padding='valid',activation='relu'))\n",
        "#model.add(BatchNormalization())  # added to reduce overfitting\n",
        "model.add(MaxPooling2D(pool_size=(2,2),strides=2,padding='valid'))\n",
        "\n",
        "model.add(Flatten())\n",
        "\n",
        "model.add(Dense(128,activation='relu')) #feature reduction\n",
        "#model.add(Dropout(0.1))  # added to reduce overfitting\n",
        "model.add(Dense(64,activation='relu'))\n",
        "#model.add(Dropout(0.1))  # added to reduce overfitting\n",
        "model.add(Dense(1,activation='sigmoid'))  #output layer"
      ]
    },
    {
      "cell_type": "code",
      "execution_count": null,
      "metadata": {
        "id": "SeBjyn0iWXgY"
      },
      "outputs": [],
      "source": [
        "from keras.optimizers import Adam\n",
        "model.compile(optimizer=Adam(learning_rate=0.001),loss='binary_crossentropy',metrics=['accuracy']) #binary_crossentropy - binary classification"
      ]
    },
    {
      "cell_type": "code",
      "execution_count": null,
      "metadata": {
        "colab": {
          "base_uri": "https://localhost:8080/"
        },
        "id": "lGbY2VpIWbTt",
        "outputId": "2e3cab6c-56b8-475c-9c25-83cd9137b7d2"
      },
      "outputs": [
        {
          "output_type": "stream",
          "name": "stdout",
          "text": [
            "Epoch 1/30\n",
            "25/25 [==============================] - 169s 7s/step - loss: 0.7551 - accuracy: 0.5019 - val_loss: 0.6924 - val_accuracy: 0.5101\n",
            "Epoch 2/30\n",
            "25/25 [==============================] - 156s 6s/step - loss: 0.6916 - accuracy: 0.5246 - val_loss: 0.6821 - val_accuracy: 0.6010\n",
            "Epoch 3/30\n",
            "25/25 [==============================] - 160s 6s/step - loss: 0.6708 - accuracy: 0.5637 - val_loss: 0.6814 - val_accuracy: 0.5657\n",
            "Epoch 4/30\n",
            "25/25 [==============================] - 147s 6s/step - loss: 0.6215 - accuracy: 0.6583 - val_loss: 0.6460 - val_accuracy: 0.6212\n",
            "Epoch 5/30\n",
            "25/25 [==============================] - 157s 6s/step - loss: 0.4912 - accuracy: 0.7856 - val_loss: 0.7478 - val_accuracy: 0.5455\n",
            "Epoch 6/30\n",
            "25/25 [==============================] - 158s 6s/step - loss: 0.3989 - accuracy: 0.8184 - val_loss: 0.7529 - val_accuracy: 0.6313\n",
            "Epoch 7/30\n",
            "25/25 [==============================] - 148s 6s/step - loss: 0.3068 - accuracy: 0.8714 - val_loss: 0.7715 - val_accuracy: 0.7020\n",
            "Epoch 8/30\n",
            "25/25 [==============================] - 160s 6s/step - loss: 0.1713 - accuracy: 0.9332 - val_loss: 1.0277 - val_accuracy: 0.6818\n",
            "Epoch 9/30\n",
            "25/25 [==============================] - 149s 6s/step - loss: 0.1175 - accuracy: 0.9546 - val_loss: 1.3858 - val_accuracy: 0.6566\n",
            "Epoch 10/30\n",
            "25/25 [==============================] - 147s 6s/step - loss: 0.0643 - accuracy: 0.9773 - val_loss: 1.4964 - val_accuracy: 0.6515\n",
            "Epoch 11/30\n",
            "25/25 [==============================] - 147s 6s/step - loss: 0.0430 - accuracy: 0.9823 - val_loss: 2.2829 - val_accuracy: 0.6313\n",
            "Epoch 12/30\n",
            "25/25 [==============================] - 161s 6s/step - loss: 0.0790 - accuracy: 0.9723 - val_loss: 2.3171 - val_accuracy: 0.6111\n",
            "Epoch 13/30\n",
            "25/25 [==============================] - 149s 6s/step - loss: 0.0482 - accuracy: 0.9811 - val_loss: 2.0768 - val_accuracy: 0.6162\n",
            "Epoch 14/30\n",
            "25/25 [==============================] - 151s 6s/step - loss: 0.0359 - accuracy: 0.9861 - val_loss: 2.7712 - val_accuracy: 0.6111\n",
            "Epoch 15/30\n",
            "25/25 [==============================] - 148s 6s/step - loss: 0.0315 - accuracy: 0.9912 - val_loss: 2.7759 - val_accuracy: 0.6414\n",
            "Epoch 16/30\n",
            "25/25 [==============================] - 160s 6s/step - loss: 0.0159 - accuracy: 0.9924 - val_loss: 2.8490 - val_accuracy: 0.6212\n",
            "Epoch 17/30\n",
            "25/25 [==============================] - 159s 6s/step - loss: 0.0136 - accuracy: 0.9962 - val_loss: 2.8102 - val_accuracy: 0.6414\n",
            "Epoch 18/30\n",
            "25/25 [==============================] - 148s 6s/step - loss: 0.0180 - accuracy: 0.9975 - val_loss: 2.6801 - val_accuracy: 0.6313\n",
            "Epoch 19/30\n",
            "25/25 [==============================] - 169s 7s/step - loss: 0.0394 - accuracy: 0.9874 - val_loss: 2.5086 - val_accuracy: 0.6162\n",
            "Epoch 20/30\n",
            "25/25 [==============================] - 158s 6s/step - loss: 0.0378 - accuracy: 0.9887 - val_loss: 2.7697 - val_accuracy: 0.6364\n",
            "Epoch 21/30\n",
            "25/25 [==============================] - 159s 6s/step - loss: 0.0085 - accuracy: 0.9962 - val_loss: 3.0732 - val_accuracy: 0.6616\n",
            "Epoch 22/30\n",
            "25/25 [==============================] - 167s 7s/step - loss: 0.0014 - accuracy: 1.0000 - val_loss: 3.4337 - val_accuracy: 0.6717\n",
            "Epoch 23/30\n",
            "25/25 [==============================] - 164s 7s/step - loss: 4.8650e-04 - accuracy: 1.0000 - val_loss: 3.6553 - val_accuracy: 0.6667\n",
            "Epoch 24/30\n",
            "25/25 [==============================] - 150s 6s/step - loss: 3.3132e-04 - accuracy: 1.0000 - val_loss: 3.6990 - val_accuracy: 0.6768\n",
            "Epoch 25/30\n",
            "25/25 [==============================] - 159s 6s/step - loss: 2.1965e-04 - accuracy: 1.0000 - val_loss: 3.7653 - val_accuracy: 0.6818\n",
            "Epoch 26/30\n",
            "25/25 [==============================] - 158s 6s/step - loss: 1.7776e-04 - accuracy: 1.0000 - val_loss: 3.8184 - val_accuracy: 0.6768\n",
            "Epoch 27/30\n",
            "25/25 [==============================] - 148s 6s/step - loss: 1.5009e-04 - accuracy: 1.0000 - val_loss: 3.8625 - val_accuracy: 0.6768\n",
            "Epoch 28/30\n",
            "25/25 [==============================] - 149s 6s/step - loss: 1.2749e-04 - accuracy: 1.0000 - val_loss: 3.9005 - val_accuracy: 0.6768\n",
            "Epoch 29/30\n",
            "25/25 [==============================] - 147s 6s/step - loss: 1.1288e-04 - accuracy: 1.0000 - val_loss: 3.9406 - val_accuracy: 0.6717\n",
            "Epoch 30/30\n",
            "25/25 [==============================] - 149s 6s/step - loss: 9.9239e-05 - accuracy: 1.0000 - val_loss: 3.9903 - val_accuracy: 0.6717\n"
          ]
        }
      ],
      "source": [
        "history = model.fit(train_data, epochs=30, validation_data=validation_data)"
      ]
    },
    {
      "cell_type": "code",
      "execution_count": null,
      "metadata": {
        "id": "g21dMlSOWKas",
        "colab": {
          "base_uri": "https://localhost:8080/",
          "height": 430
        },
        "outputId": "64e58d56-96c9-464a-91e8-51d4a5781184"
      },
      "outputs": [
        {
          "output_type": "display_data",
          "data": {
            "text/plain": [
              "<Figure size 640x480 with 1 Axes>"
            ],
            "image/png": "[encoded data removed]"
          },
          "metadata": {}
        }
      ],
      "source": [
        "import matplotlib.pyplot as plt\n",
        "\n",
        "plt.plot(history.history['accuracy'],color='red',label='train')\n",
        "plt.plot(history.history['val_accuracy'],color='blue',label='validation')\n",
        "plt.legend()\n",
        "plt.show()"
      ]
    },
    {
      "cell_type": "code",
      "execution_count": null,
      "metadata": {
        "id": "FYZ0VJp4esXl",
        "colab": {
          "base_uri": "https://localhost:8080/",
          "height": 430
        },
        "outputId": "a2553807-8a6b-46ed-8671-0f46f8626c50"
      },
      "outputs": [
        {
          "output_type": "display_data",
          "data": {
            "text/plain": [
              "<Figure size 640x480 with 1 Axes>"
            ],
            "image/png": "[encoded data removed]"
          },
          "metadata": {}
        }
      ],
      "source": [
        "plt.plot(history.history['loss'],color='red',label='train')\n",
        "plt.plot(history.history['val_loss'],color='blue',label='validation')\n",
        "plt.legend()\n",
        "plt.show()"
      ]
    },
    {
      "cell_type": "code",
      "execution_count": null,
      "metadata": {
        "id": "tQj_RyrZWBEt",
        "colab": {
          "base_uri": "https://localhost:8080/"
        },
        "outputId": "bd6d03b5-1dfe-4a33-82d6-640463286024"
      },
      "outputs": [
        {
          "output_type": "stream",
          "name": "stdout",
          "text": [
            "Found 80 images belonging to 2 classes.\n"
          ]
        }
      ],
      "source": [
        "test_datagen = ImageDataGenerator(rescale=1./255)\n",
        "test_data = test_datagen.flow_from_directory(\n",
        "    test_dir,\n",
        "    target_size=(256,256),\n",
        "    batch_size=32,\n",
        "    class_mode='binary'\n",
        ")"
      ]
    },
    {
      "cell_type": "code",
      "execution_count": null,
      "metadata": {
        "id": "glicW8_5vTqd",
        "colab": {
          "base_uri": "https://localhost:8080/"
        },
        "outputId": "35aae6c6-473a-4bf5-dfab-94f8bcae62b2"
      },
      "outputs": [
        {
          "output_type": "stream",
          "name": "stdout",
          "text": [
            "3/3 [==============================] - 12s 5s/step\n",
            "[[8.8087922e-01]\n",
            " [9.9995542e-01]\n",
            " [6.6216751e-03]\n",
            " [9.9682033e-01]\n",
            " [9.9999934e-01]\n",
            " [2.9281677e-34]\n",
            " [9.9999988e-01]\n",
            " [1.0000000e+00]\n",
            " [6.6215765e-01]\n",
            " [8.6950731e-01]\n",
            " [9.8892725e-01]\n",
            " [1.0000000e+00]\n",
            " [5.5626136e-01]\n",
            " [3.7945461e-02]\n",
            " [1.0000000e+00]\n",
            " [4.8038964e-06]\n",
            " [7.1801776e-05]\n",
            " [9.9992162e-01]\n",
            " [1.2741400e-03]\n",
            " [5.1735550e-01]\n",
            " [3.9517907e-03]\n",
            " [9.9999475e-01]\n",
            " [9.0276664e-01]\n",
            " [5.3690661e-02]\n",
            " [5.8307303e-10]\n",
            " [1.5632885e-17]\n",
            " [9.9954194e-01]\n",
            " [9.9999779e-01]\n",
            " [9.9999869e-01]\n",
            " [9.9999988e-01]\n",
            " [7.4949142e-08]\n",
            " [1.0000000e+00]\n",
            " [4.6216372e-10]\n",
            " [5.5906938e-08]\n",
            " [9.9998981e-01]\n",
            " [2.3634012e-26]\n",
            " [8.0124205e-01]\n",
            " [1.5778935e-08]\n",
            " [6.0334706e-01]\n",
            " [7.1299888e-15]\n",
            " [9.9641651e-01]\n",
            " [2.6856476e-01]\n",
            " [1.8421044e-07]\n",
            " [9.0009480e-16]\n",
            " [9.9990571e-01]\n",
            " [3.2574215e-03]\n",
            " [1.3866763e-08]\n",
            " [4.4051805e-04]\n",
            " [4.9833614e-07]\n",
            " [1.0000000e+00]\n",
            " [1.8505611e-02]\n",
            " [9.7828537e-01]\n",
            " [1.8914048e-02]\n",
            " [9.9950498e-01]\n",
            " [5.2385833e-05]\n",
            " [9.9085343e-01]\n",
            " [7.8699260e-04]\n",
            " [3.8699326e-15]\n",
            " [1.3618092e-13]\n",
            " [2.0048910e-06]\n",
            " [9.9977851e-01]\n",
            " [1.0000000e+00]\n",
            " [1.0000000e+00]\n",
            " [9.9999988e-01]\n",
            " [3.2634991e-01]\n",
            " [2.2200219e-09]\n",
            " [5.8986214e-03]\n",
            " [1.1392862e-01]\n",
            " [9.9775130e-01]\n",
            " [6.0797567e-05]\n",
            " [9.9994171e-01]\n",
            " [1.0000000e+00]\n",
            " [1.0000000e+00]\n",
            " [3.9988484e-02]\n",
            " [4.4397618e-11]\n",
            " [9.9995679e-01]\n",
            " [7.3873222e-01]\n",
            " [9.9993533e-01]\n",
            " [9.9999988e-01]\n",
            " [9.9098343e-01]]\n"
          ]
        }
      ],
      "source": [
        "#predict the test data\n",
        "predictions = model.predict(test_data)\n",
        "print(predictions)"
      ]
    },
    {
      "cell_type": "code",
      "execution_count": null,
      "metadata": {
        "id": "r7XjnjcNyMbv",
        "colab": {
          "base_uri": "https://localhost:8080/"
        },
        "outputId": "d0169962-79c2-406d-caa1-486d280a6447"
      },
      "outputs": [
        {
          "output_type": "execute_result",
          "data": {
            "text/plain": [
              "80"
            ]
          },
          "metadata": {},
          "execution_count": 14
        }
      ],
      "source": [
        "len(predictions)"
      ]
    },
    {
      "cell_type": "code",
      "execution_count": null,
      "metadata": {
        "id": "oqqBXpuhyd6x",
        "colab": {
          "base_uri": "https://localhost:8080/"
        },
        "outputId": "f42bb082-e7e0-4463-f064-d7c6e2e65bf7"
      },
      "outputs": [
        {
          "output_type": "stream",
          "name": "stdout",
          "text": [
            "Confusion Matrix:\n",
            "[[16 24]\n",
            " [21 19]]\n",
            "Classification Report:\n",
            "              precision    recall  f1-score   support\n",
            "\n",
            "           0       0.43      0.40      0.42        40\n",
            "           1       0.44      0.47      0.46        40\n",
            "\n",
            "    accuracy                           0.44        80\n",
            "   macro avg       0.44      0.44      0.44        80\n",
            "weighted avg       0.44      0.44      0.44        80\n",
            "\n"
          ]
        }
      ],
      "source": [
        "from sklearn.metrics import confusion_matrix, classification_report\n",
        "\n",
        "# Assuming you have ground truth labels (true_labels) and predicted labels (predictions)\n",
        "true_labels = test_data.classes\n",
        "predicted_labels = (predictions > 0.5).astype(int)  # Adjust the threshold as needed\n",
        "\n",
        "# Calculate confusion matrix\n",
        "cm = confusion_matrix(true_labels, predicted_labels)\n",
        "\n",
        "# Print confusion matrix\n",
        "print(\"Confusion Matrix:\")\n",
        "print(cm)\n",
        "\n",
        "# Print classification report\n",
        "print(\"Classification Report:\")\n",
        "print(classification_report(true_labels, predicted_labels))"
      ]
    }
  ],
  "metadata": {
    "accelerator": "TPU",
    "colab": {
      "provenance": [],
      "toc_visible": true
    },
    "kernelspec": {
      "display_name": "Python 3",
      "name": "python3"
    },
    "language_info": {
      "name": "python"
    }
  },
  "nbformat": 4,
  "nbformat_minor": 0
}